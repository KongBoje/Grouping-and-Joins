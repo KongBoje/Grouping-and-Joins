{
 "cells": [
  {
   "cell_type": "markdown",
   "metadata": {},
   "source": [
    "# Assignment 7: Grouping and more joins"
   ]
  },
  {
   "cell_type": "code",
   "execution_count": 1,
   "metadata": {},
   "outputs": [],
   "source": [
    "%load_ext sql"
   ]
  },
  {
   "cell_type": "code",
   "execution_count": 2,
   "metadata": {},
   "outputs": [
    {
     "data": {
      "text/plain": [
       "'Connected: appdev@appdev'"
      ]
     },
     "execution_count": 2,
     "metadata": {},
     "output_type": "execute_result"
    }
   ],
   "source": [
    "%sql postgresql://appdev@data:5432/appdev"
   ]
  },
  {
   "cell_type": "markdown",
   "metadata": {},
   "source": [
    "### 1. Using a single join and a grouping, write a query that allows you to find the forename, surname, driverid   and the total number of wins for each driver in the f1db schema."
   ]
  },
  {
   "cell_type": "code",
   "execution_count": 18,
   "metadata": {},
   "outputs": [
    {
     "name": "stdout",
     "output_type": "stream",
     "text": [
      "10 rows affected.\n"
     ]
    },
    {
     "data": {
      "text/html": [
       "<table>\n",
       "    <tr>\n",
       "        <th>driver_id</th>\n",
       "        <th>first_name</th>\n",
       "        <th>last_name</th>\n",
       "        <th>wins</th>\n",
       "    </tr>\n",
       "    <tr>\n",
       "        <td>30</td>\n",
       "        <td>Michael</td>\n",
       "        <td>Schumacher</td>\n",
       "        <td>91</td>\n",
       "    </tr>\n",
       "    <tr>\n",
       "        <td>1</td>\n",
       "        <td>Lewis</td>\n",
       "        <td>Hamilton</td>\n",
       "        <td>60</td>\n",
       "    </tr>\n",
       "    <tr>\n",
       "        <td>117</td>\n",
       "        <td>Alain</td>\n",
       "        <td>Prost</td>\n",
       "        <td>51</td>\n",
       "    </tr>\n",
       "    <tr>\n",
       "        <td>20</td>\n",
       "        <td>Sebastian</td>\n",
       "        <td>Vettel</td>\n",
       "        <td>46</td>\n",
       "    </tr>\n",
       "    <tr>\n",
       "        <td>102</td>\n",
       "        <td>Ayrton</td>\n",
       "        <td>Senna</td>\n",
       "        <td>41</td>\n",
       "    </tr>\n",
       "    <tr>\n",
       "        <td>4</td>\n",
       "        <td>Fernando</td>\n",
       "        <td>Alonso</td>\n",
       "        <td>32</td>\n",
       "    </tr>\n",
       "    <tr>\n",
       "        <td>95</td>\n",
       "        <td>Nigel</td>\n",
       "        <td>Mansell</td>\n",
       "        <td>31</td>\n",
       "    </tr>\n",
       "    <tr>\n",
       "        <td>328</td>\n",
       "        <td>Jackie</td>\n",
       "        <td>Stewart</td>\n",
       "        <td>27</td>\n",
       "    </tr>\n",
       "    <tr>\n",
       "        <td>182</td>\n",
       "        <td>Niki</td>\n",
       "        <td>Lauda</td>\n",
       "        <td>25</td>\n",
       "    </tr>\n",
       "    <tr>\n",
       "        <td>373</td>\n",
       "        <td>Jim</td>\n",
       "        <td>Clark</td>\n",
       "        <td>25</td>\n",
       "    </tr>\n",
       "</table>"
      ],
      "text/plain": [
       "[(30, 'Michael', 'Schumacher', 91),\n",
       " (1, 'Lewis', 'Hamilton', 60),\n",
       " (117, 'Alain', 'Prost', 51),\n",
       " (20, 'Sebastian', 'Vettel', 46),\n",
       " (102, 'Ayrton', 'Senna', 41),\n",
       " (4, 'Fernando', 'Alonso', 32),\n",
       " (95, 'Nigel', 'Mansell', 31),\n",
       " (328, 'Jackie', 'Stewart', 27),\n",
       " (182, 'Niki', 'Lauda', 25),\n",
       " (373, 'Jim', 'Clark', 25)]"
      ]
     },
     "execution_count": 18,
     "metadata": {},
     "output_type": "execute_result"
    }
   ],
   "source": [
    "%%sql \n",
    "SELECT driverid as driver_id,\n",
    "       forename as first_name,\n",
    "       surname as last_name,\n",
    "       count(results.position) as wins\n",
    "FROM drivers\n",
    "JOIN results USING (driverid)\n",
    "WHERE results.position = 1\n",
    "GROUP BY (drivers.driverid)\n",
    "ORDER BY wins DESC\n",
    "LIMIT 10"
   ]
  },
  {
   "cell_type": "markdown",
   "metadata": {},
   "source": [
    "As you can see in the above query, we have found the 10 best drivers in the f1db schema.\n",
    "It shows the driver_id, first_name, last_name and the total number of wins each driver has, where the best one is Michael Schumacher."
   ]
  },
  {
   "cell_type": "markdown",
   "metadata": {},
   "source": [
    "### 2. Write a query that joins the tables results, constructors and drivers to show the amount of times a driver has driven a car from a constructor. In other words how many times one driver (for instance Schumacher) has driven a constructor (for instance Mercedes). Your table should have three fields: drivers.driverref, constructors.name and count(*) (showing the number of times the driver has driven the constructor).\n",
    "\n",
    "#### A. Hint: You can group on more than one value\n"
   ]
  },
  {
   "cell_type": "code",
   "execution_count": 20,
   "metadata": {},
   "outputs": [
    {
     "name": "stdout",
     "output_type": "stream",
     "text": [
      "10 rows affected.\n"
     ]
    },
    {
     "data": {
      "text/html": [
       "<table>\n",
       "    <tr>\n",
       "        <th>driver</th>\n",
       "        <th>constructor</th>\n",
       "        <th>time</th>\n",
       "    </tr>\n",
       "    <tr>\n",
       "        <td>michael_schumacher</td>\n",
       "        <td>Ferrari</td>\n",
       "        <td>181</td>\n",
       "    </tr>\n",
       "    <tr>\n",
       "        <td>coulthard</td>\n",
       "        <td>McLaren</td>\n",
       "        <td>150</td>\n",
       "    </tr>\n",
       "    <tr>\n",
       "        <td>massa</td>\n",
       "        <td>Ferrari</td>\n",
       "        <td>140</td>\n",
       "    </tr>\n",
       "    <tr>\n",
       "        <td>button</td>\n",
       "        <td>McLaren</td>\n",
       "        <td>137</td>\n",
       "    </tr>\n",
       "    <tr>\n",
       "        <td>rosberg</td>\n",
       "        <td>Mercedes</td>\n",
       "        <td>136</td>\n",
       "    </tr>\n",
       "    <tr>\n",
       "        <td>hakkinen</td>\n",
       "        <td>McLaren</td>\n",
       "        <td>133</td>\n",
       "    </tr>\n",
       "    <tr>\n",
       "        <td>laffite</td>\n",
       "        <td>Ligier</td>\n",
       "        <td>132</td>\n",
       "    </tr>\n",
       "    <tr>\n",
       "        <td>webber</td>\n",
       "        <td>Red Bull</td>\n",
       "        <td>129</td>\n",
       "    </tr>\n",
       "    <tr>\n",
       "        <td>raikkonen</td>\n",
       "        <td>Ferrari</td>\n",
       "        <td>126</td>\n",
       "    </tr>\n",
       "    <tr>\n",
       "        <td>vettel</td>\n",
       "        <td>Red Bull</td>\n",
       "        <td>113</td>\n",
       "    </tr>\n",
       "</table>"
      ],
      "text/plain": [
       "[('michael_schumacher', 'Ferrari', 181),\n",
       " ('coulthard', 'McLaren', 150),\n",
       " ('massa', 'Ferrari', 140),\n",
       " ('button', 'McLaren', 137),\n",
       " ('rosberg', 'Mercedes', 136),\n",
       " ('hakkinen', 'McLaren', 133),\n",
       " ('laffite', 'Ligier', 132),\n",
       " ('webber', 'Red Bull', 129),\n",
       " ('raikkonen', 'Ferrari', 126),\n",
       " ('vettel', 'Red Bull', 113)]"
      ]
     },
     "execution_count": 20,
     "metadata": {},
     "output_type": "execute_result"
    }
   ],
   "source": [
    "%%sql\n",
    "SELECT driverref as driver,\n",
    "       constructors.name as constructor,\n",
    "       count(*) as time\n",
    "FROM drivers\n",
    "JOIN results USING (driverid)\n",
    "JOIN constructors USING (constructorid)\n",
    "GROUP BY (drivers.driverref, constructors.name)\n",
    "ORDER BY time DESC\n",
    "LIMIT 10"
   ]
  },
  {
   "cell_type": "markdown",
   "metadata": {},
   "source": [
    "Here we show the total amount of time a driver has driven a car from a constructor with the 10 most drivers who's used most time.\n",
    "Again it show Michael Schumacher on the top."
   ]
  },
  {
   "cell_type": "markdown",
   "metadata": {},
   "source": [
    "### 3. Now we have found the most driven vehicles even for those who didn't finish the race. Extend the query from 2 by removing all tuples from the result where the status is not \"Finished\"."
   ]
  },
  {
   "cell_type": "code",
   "execution_count": 33,
   "metadata": {},
   "outputs": [
    {
     "name": "stdout",
     "output_type": "stream",
     "text": [
      "10 rows affected.\n"
     ]
    },
    {
     "data": {
      "text/html": [
       "<table>\n",
       "    <tr>\n",
       "        <th>driver</th>\n",
       "        <th>constructor</th>\n",
       "        <th>time</th>\n",
       "    </tr>\n",
       "    <tr>\n",
       "        <td>michael_schumacher</td>\n",
       "        <td>Ferrari</td>\n",
       "        <td>141</td>\n",
       "    </tr>\n",
       "    <tr>\n",
       "        <td>massa</td>\n",
       "        <td>Ferrari</td>\n",
       "        <td>112</td>\n",
       "    </tr>\n",
       "    <tr>\n",
       "        <td>rosberg</td>\n",
       "        <td>Mercedes</td>\n",
       "        <td>109</td>\n",
       "    </tr>\n",
       "    <tr>\n",
       "        <td>webber</td>\n",
       "        <td>Red Bull</td>\n",
       "        <td>100</td>\n",
       "    </tr>\n",
       "    <tr>\n",
       "        <td>vettel</td>\n",
       "        <td>Red Bull</td>\n",
       "        <td>97</td>\n",
       "    </tr>\n",
       "    <tr>\n",
       "        <td>raikkonen</td>\n",
       "        <td>Ferrari</td>\n",
       "        <td>92</td>\n",
       "    </tr>\n",
       "    <tr>\n",
       "        <td>button</td>\n",
       "        <td>McLaren</td>\n",
       "        <td>87</td>\n",
       "    </tr>\n",
       "    <tr>\n",
       "        <td>alonso</td>\n",
       "        <td>Ferrari</td>\n",
       "        <td>87</td>\n",
       "    </tr>\n",
       "    <tr>\n",
       "        <td>coulthard</td>\n",
       "        <td>McLaren</td>\n",
       "        <td>85</td>\n",
       "    </tr>\n",
       "    <tr>\n",
       "        <td>hamilton</td>\n",
       "        <td>Mercedes</td>\n",
       "        <td>85</td>\n",
       "    </tr>\n",
       "</table>"
      ],
      "text/plain": [
       "[('michael_schumacher', 'Ferrari', 141),\n",
       " ('massa', 'Ferrari', 112),\n",
       " ('rosberg', 'Mercedes', 109),\n",
       " ('webber', 'Red Bull', 100),\n",
       " ('vettel', 'Red Bull', 97),\n",
       " ('raikkonen', 'Ferrari', 92),\n",
       " ('button', 'McLaren', 87),\n",
       " ('alonso', 'Ferrari', 87),\n",
       " ('coulthard', 'McLaren', 85),\n",
       " ('hamilton', 'Mercedes', 85)]"
      ]
     },
     "execution_count": 33,
     "metadata": {},
     "output_type": "execute_result"
    }
   ],
   "source": [
    "%%sql \n",
    "SELECT driverref as driver,\n",
    "       constructors.name as constructor,\n",
    "       count(*) as time\n",
    "FROM drivers\n",
    "JOIN results USING (driverid)\n",
    "JOIN constructors USING (constructorid)\n",
    "WHERE results.statusid = 1\n",
    "GROUP BY (drivers.driverref, constructors.name)\n",
    "ORDER BY time DESC\n",
    "LIMIT 10"
   ]
  },
  {
   "cell_type": "markdown",
   "metadata": {},
   "source": [
    "So to find the results of the finished vehicles we search for the drivers with a results.statusid = 1."
   ]
  },
  {
   "cell_type": "markdown",
   "metadata": {},
   "source": [
    "### 4. Create a third (and new) query that finds the amount of milliseconds spent in pitstop (see the pitstops relation) by each unique combinations of driverid and raceid.\n",
    "\n",
    "#### A. Hint: use the sum aggregate function to find the total amount of milliseconds\n",
    "#### B. Hint: i recommend making this into a view\n"
   ]
  },
  {
   "cell_type": "code",
   "execution_count": 48,
   "metadata": {},
   "outputs": [
    {
     "name": "stdout",
     "output_type": "stream",
     "text": [
      "Done.\n",
      "Done.\n"
     ]
    },
    {
     "data": {
      "text/plain": [
       "[]"
      ]
     },
     "execution_count": 48,
     "metadata": {},
     "output_type": "execute_result"
    }
   ],
   "source": [
    "%%sql\n",
    "DROP VIEW IF EXISTS pitstop_time;\n",
    "CREATE VIEW pitstop_time AS\n",
    "SELECT driverid as driver_id,\n",
    "       races.raceid as race_id,\n",
    "       driverref as driver,\n",
    "       count(pitstops.driverid) as pit_time,\n",
    "       sum(pitstops.milliseconds) as milliseconds\n",
    "FROM drivers\n",
    "JOIN pitstops USING (driverid)\n",
    "JOIN races USING (raceid)\n",
    "GROUP BY (drivers.driverid, races.raceid)\n",
    "ORDER BY milliseconds DESC"
   ]
  },
  {
   "cell_type": "code",
   "execution_count": 49,
   "metadata": {},
   "outputs": [
    {
     "name": "stdout",
     "output_type": "stream",
     "text": [
      "10 rows affected.\n"
     ]
    },
    {
     "data": {
      "text/html": [
       "<table>\n",
       "    <tr>\n",
       "        <th>driver_id</th>\n",
       "        <th>race_id</th>\n",
       "        <th>driver</th>\n",
       "        <th>pit_time</th>\n",
       "        <th>milliseconds</th>\n",
       "    </tr>\n",
       "    <tr>\n",
       "        <td>817</td>\n",
       "        <td>967</td>\n",
       "        <td>ricciardo</td>\n",
       "        <td>5</td>\n",
       "        <td>3572090</td>\n",
       "    </tr>\n",
       "    <tr>\n",
       "        <td>18</td>\n",
       "        <td>967</td>\n",
       "        <td>button</td>\n",
       "        <td>5</td>\n",
       "        <td>3569001</td>\n",
       "    </tr>\n",
       "    <tr>\n",
       "        <td>830</td>\n",
       "        <td>967</td>\n",
       "        <td>max_verstappen</td>\n",
       "        <td>5</td>\n",
       "        <td>3563738</td>\n",
       "    </tr>\n",
       "    <tr>\n",
       "        <td>13</td>\n",
       "        <td>967</td>\n",
       "        <td>massa</td>\n",
       "        <td>4</td>\n",
       "        <td>3554774</td>\n",
       "    </tr>\n",
       "    <tr>\n",
       "        <td>826</td>\n",
       "        <td>967</td>\n",
       "        <td>kvyat</td>\n",
       "        <td>4</td>\n",
       "        <td>3546767</td>\n",
       "    </tr>\n",
       "    <tr>\n",
       "        <td>825</td>\n",
       "        <td>967</td>\n",
       "        <td>kevin_magnussen</td>\n",
       "        <td>4</td>\n",
       "        <td>3542704</td>\n",
       "    </tr>\n",
       "    <tr>\n",
       "        <td>822</td>\n",
       "        <td>967</td>\n",
       "        <td>bottas</td>\n",
       "        <td>4</td>\n",
       "        <td>3542270</td>\n",
       "    </tr>\n",
       "    <tr>\n",
       "        <td>821</td>\n",
       "        <td>967</td>\n",
       "        <td>gutierrez</td>\n",
       "        <td>4</td>\n",
       "        <td>3538573</td>\n",
       "    </tr>\n",
       "    <tr>\n",
       "        <td>20</td>\n",
       "        <td>967</td>\n",
       "        <td>vettel</td>\n",
       "        <td>3</td>\n",
       "        <td>3524541</td>\n",
       "    </tr>\n",
       "    <tr>\n",
       "        <td>836</td>\n",
       "        <td>967</td>\n",
       "        <td>wehrlein</td>\n",
       "        <td>3</td>\n",
       "        <td>3518952</td>\n",
       "    </tr>\n",
       "</table>"
      ],
      "text/plain": [
       "[(817, 967, 'ricciardo', 5, Decimal('3572090')),\n",
       " (18, 967, 'button', 5, Decimal('3569001')),\n",
       " (830, 967, 'max_verstappen', 5, Decimal('3563738')),\n",
       " (13, 967, 'massa', 4, Decimal('3554774')),\n",
       " (826, 967, 'kvyat', 4, Decimal('3546767')),\n",
       " (825, 967, 'kevin_magnussen', 4, Decimal('3542704')),\n",
       " (822, 967, 'bottas', 4, Decimal('3542270')),\n",
       " (821, 967, 'gutierrez', 4, Decimal('3538573')),\n",
       " (20, 967, 'vettel', 3, Decimal('3524541')),\n",
       " (836, 967, 'wehrlein', 3, Decimal('3518952'))]"
      ]
     },
     "execution_count": 49,
     "metadata": {},
     "output_type": "execute_result"
    }
   ],
   "source": [
    "%sql SELECT * FROM pitstop_time limit 10"
   ]
  },
  {
   "cell_type": "markdown",
   "metadata": {},
   "source": [
    "Here we create a view which shows the amount of milliseconds used in a pitstop using the driver_id and the race_id."
   ]
  },
  {
   "cell_type": "markdown",
   "metadata": {},
   "source": [
    "### 5. Time to put everything together. Use the query for 4 as a join subquery in query 3 (see slides on \"a query within a query\") to find the total amount of pitstop time, for each result in query 3"
   ]
  },
  {
   "cell_type": "code",
   "execution_count": 50,
   "metadata": {},
   "outputs": [
    {
     "name": "stdout",
     "output_type": "stream",
     "text": [
      "Done.\n",
      "Done.\n"
     ]
    },
    {
     "data": {
      "text/plain": [
       "[]"
      ]
     },
     "execution_count": 50,
     "metadata": {},
     "output_type": "execute_result"
    }
   ],
   "source": [
    "%%sql\n",
    "DROP VIEW IF EXISTS finished_vehicles;\n",
    "CREATE VIEW finished_vehicles AS\n",
    "SELECT driverref as driver,\n",
    "       constructors.name as constructor,\n",
    "       count(*) as time\n",
    "FROM drivers\n",
    "JOIN results USING (driverid)\n",
    "JOIN constructors USING (constructorid)\n",
    "WHERE results.statusid = 1\n",
    "GROUP BY (drivers.driverref, constructors.name)\n",
    "ORDER BY time DESC;"
   ]
  },
  {
   "cell_type": "code",
   "execution_count": 62,
   "metadata": {},
   "outputs": [
    {
     "name": "stdout",
     "output_type": "stream",
     "text": [
      "10 rows affected.\n"
     ]
    },
    {
     "data": {
      "text/html": [
       "<table>\n",
       "    <tr>\n",
       "        <th>driver</th>\n",
       "        <th>constructor</th>\n",
       "        <th>time</th>\n",
       "    </tr>\n",
       "    <tr>\n",
       "        <td>hamilton</td>\n",
       "        <td>Mercedes</td>\n",
       "        <td>12428578</td>\n",
       "    </tr>\n",
       "    <tr>\n",
       "        <td>rosberg</td>\n",
       "        <td>Mercedes</td>\n",
       "        <td>12390412</td>\n",
       "    </tr>\n",
       "    <tr>\n",
       "        <td>perez</td>\n",
       "        <td>Force India</td>\n",
       "        <td>11876732</td>\n",
       "    </tr>\n",
       "    <tr>\n",
       "        <td>massa</td>\n",
       "        <td>Williams</td>\n",
       "        <td>11874456</td>\n",
       "    </tr>\n",
       "    <tr>\n",
       "        <td>ricciardo</td>\n",
       "        <td>Red Bull</td>\n",
       "        <td>11816929</td>\n",
       "    </tr>\n",
       "    <tr>\n",
       "        <td>button</td>\n",
       "        <td>McLaren</td>\n",
       "        <td>11800713</td>\n",
       "    </tr>\n",
       "    <tr>\n",
       "        <td>bottas</td>\n",
       "        <td>Williams</td>\n",
       "        <td>10665109</td>\n",
       "    </tr>\n",
       "    <tr>\n",
       "        <td>hulkenberg</td>\n",
       "        <td>Force India</td>\n",
       "        <td>10198930</td>\n",
       "    </tr>\n",
       "    <tr>\n",
       "        <td>vettel</td>\n",
       "        <td>Ferrari</td>\n",
       "        <td>9248461</td>\n",
       "    </tr>\n",
       "    <tr>\n",
       "        <td>nasr</td>\n",
       "        <td>Sauber</td>\n",
       "        <td>8513533</td>\n",
       "    </tr>\n",
       "</table>"
      ],
      "text/plain": [
       "[('hamilton', 'Mercedes', Decimal('12428578')),\n",
       " ('rosberg', 'Mercedes', Decimal('12390412')),\n",
       " ('perez', 'Force India', Decimal('11876732')),\n",
       " ('massa', 'Williams', Decimal('11874456')),\n",
       " ('ricciardo', 'Red Bull', Decimal('11816929')),\n",
       " ('button', 'McLaren', Decimal('11800713')),\n",
       " ('bottas', 'Williams', Decimal('10665109')),\n",
       " ('hulkenberg', 'Force India', Decimal('10198930')),\n",
       " ('vettel', 'Ferrari', Decimal('9248461')),\n",
       " ('nasr', 'Sauber', Decimal('8513533'))]"
      ]
     },
     "execution_count": 62,
     "metadata": {},
     "output_type": "execute_result"
    }
   ],
   "source": [
    "%%sql\n",
    "SELECT fv.driver,\n",
    "       fv.constructor,\n",
    "       sum(pt.milliseconds) as time\n",
    "FROM finished_vehicles as fv\n",
    "INNER JOIN (SELECT\n",
    "              driver_id,\n",
    "              race_id,\n",
    "              driver,\n",
    "              pitstop_time.milliseconds,\n",
    "              results.constructorid,\n",
    "              constructors.name\n",
    "          FROM pitstop_time\n",
    "          JOIN results ON results.driverid = pitstop_time.driver_id\n",
    "          AND results.raceid = pitstop_time.race_id\n",
    "          JOIN constructors ON constructors.constructorid = results.constructorid) as pt\n",
    "ON pt.driver = fv.driver AND pt.name = fv.constructor\n",
    "GROUP BY (fv.driver, fv.constructor)\n",
    "ORDER BY time DESC\n",
    "LIMIT 10;"
   ]
  },
  {
   "cell_type": "markdown",
   "metadata": {},
   "source": [
    "Here an INNER JOIN is used to get the total amount of pitstop time."
   ]
  },
  {
   "cell_type": "markdown",
   "metadata": {},
   "source": [
    "### 6. As a last thing we want to find the driver with the least pistop time. However we want to control for the amount of races (see explanation below), so we need to include one last column: the average pitstop time per race. Your table should be sorted based on the ascending values of that average pitstop time.\n",
    "\n",
    "#### A. Explanation: If we just count the pitstop time, we only get the total time he spend in a workshop, no matter how many races he participated in. If a driver participated in 100 races, he would have more pitstop time than a driver participating in one race!\n",
    "#### B. Hint: Use the sum function to accumulate the total pistop time and divide that with the amount of races the driver has participated in\n"
   ]
  },
  {
   "cell_type": "code",
   "execution_count": 66,
   "metadata": {},
   "outputs": [
    {
     "name": "stdout",
     "output_type": "stream",
     "text": [
      "20 rows affected.\n"
     ]
    },
    {
     "data": {
      "text/html": [
       "<table>\n",
       "    <tr>\n",
       "        <th>driver</th>\n",
       "        <th>average</th>\n",
       "    </tr>\n",
       "    <tr>\n",
       "        <td>gasly</td>\n",
       "        <td>25044.000000000000</td>\n",
       "    </tr>\n",
       "    <tr>\n",
       "        <td>giovinazzi</td>\n",
       "        <td>29017.000000000000</td>\n",
       "    </tr>\n",
       "    <tr>\n",
       "        <td>glock</td>\n",
       "        <td>49466.555555555556</td>\n",
       "    </tr>\n",
       "    <tr>\n",
       "        <td>merhi</td>\n",
       "        <td>49585.230769230769</td>\n",
       "    </tr>\n",
       "    <tr>\n",
       "        <td>pic</td>\n",
       "        <td>52173.405405405405</td>\n",
       "    </tr>\n",
       "    <tr>\n",
       "        <td>karthikeyan</td>\n",
       "        <td>52388.291666666667</td>\n",
       "    </tr>\n",
       "    <tr>\n",
       "        <td>resta</td>\n",
       "        <td>52736.224137931034</td>\n",
       "    </tr>\n",
       "    <tr>\n",
       "        <td>michael_schumacher</td>\n",
       "        <td>53388.105263157895</td>\n",
       "    </tr>\n",
       "    <tr>\n",
       "        <td>rosa</td>\n",
       "        <td>54951.235294117647</td>\n",
       "    </tr>\n",
       "    <tr>\n",
       "        <td>petrov</td>\n",
       "        <td>55713.297297297297</td>\n",
       "    </tr>\n",
       "    <tr>\n",
       "        <td>trulli</td>\n",
       "        <td>56120.411764705882</td>\n",
       "    </tr>\n",
       "    <tr>\n",
       "        <td>bruno_senna</td>\n",
       "        <td>56163.538461538462</td>\n",
       "    </tr>\n",
       "    <tr>\n",
       "        <td>alguersuari</td>\n",
       "        <td>57004.500000000000</td>\n",
       "    </tr>\n",
       "    <tr>\n",
       "        <td>stevens</td>\n",
       "        <td>57306.000000000000</td>\n",
       "    </tr>\n",
       "    <tr>\n",
       "        <td>heidfeld</td>\n",
       "        <td>57333.300000000000</td>\n",
       "    </tr>\n",
       "    <tr>\n",
       "        <td>buemi</td>\n",
       "        <td>57941.000000000000</td>\n",
       "    </tr>\n",
       "    <tr>\n",
       "        <td>ambrosio</td>\n",
       "        <td>57956.555555555556</td>\n",
       "    </tr>\n",
       "    <tr>\n",
       "        <td>haryanto</td>\n",
       "        <td>58343.545454545455</td>\n",
       "    </tr>\n",
       "    <tr>\n",
       "        <td>webber</td>\n",
       "        <td>59732.678571428571</td>\n",
       "    </tr>\n",
       "    <tr>\n",
       "        <td>kovalainen</td>\n",
       "        <td>60906.450000000000</td>\n",
       "    </tr>\n",
       "</table>"
      ],
      "text/plain": [
       "[('gasly', Decimal('25044.000000000000')),\n",
       " ('giovinazzi', Decimal('29017.000000000000')),\n",
       " ('glock', Decimal('49466.555555555556')),\n",
       " ('merhi', Decimal('49585.230769230769')),\n",
       " ('pic', Decimal('52173.405405405405')),\n",
       " ('karthikeyan', Decimal('52388.291666666667')),\n",
       " ('resta', Decimal('52736.224137931034')),\n",
       " ('michael_schumacher', Decimal('53388.105263157895')),\n",
       " ('rosa', Decimal('54951.235294117647')),\n",
       " ('petrov', Decimal('55713.297297297297')),\n",
       " ('trulli', Decimal('56120.411764705882')),\n",
       " ('bruno_senna', Decimal('56163.538461538462')),\n",
       " ('alguersuari', Decimal('57004.500000000000')),\n",
       " ('stevens', Decimal('57306.000000000000')),\n",
       " ('heidfeld', Decimal('57333.300000000000')),\n",
       " ('buemi', Decimal('57941.000000000000')),\n",
       " ('ambrosio', Decimal('57956.555555555556')),\n",
       " ('haryanto', Decimal('58343.545454545455')),\n",
       " ('webber', Decimal('59732.678571428571')),\n",
       " ('kovalainen', Decimal('60906.450000000000'))]"
      ]
     },
     "execution_count": 66,
     "metadata": {},
     "output_type": "execute_result"
    }
   ],
   "source": [
    "%%sql\n",
    "SELECT driver, \n",
    "AVG(milliseconds) as average\n",
    "FROM pitstop_time \n",
    "GROUP BY (driver)\n",
    "ORDER BY average ASC\n",
    "LIMIT 20"
   ]
  },
  {
   "cell_type": "markdown",
   "metadata": {},
   "source": [
    "Here we find the drivers with the least pitstop time by using the AVG function."
   ]
  }
 ],
 "metadata": {
  "kernelspec": {
   "display_name": "Python 3",
   "language": "python",
   "name": "python3"
  },
  "language_info": {
   "codemirror_mode": {
    "name": "ipython",
    "version": 3
   },
   "file_extension": ".py",
   "mimetype": "text/x-python",
   "name": "python",
   "nbconvert_exporter": "python",
   "pygments_lexer": "ipython3",
   "version": "3.6.3"
  }
 },
 "nbformat": 4,
 "nbformat_minor": 2
}
